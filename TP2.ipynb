{
 "cells": [
  {
   "cell_type": "code",
   "execution_count": 2,
   "metadata": {},
   "outputs": [],
   "source": [
    "import numpy as np\n",
    "import subprocess"
   ]
  },
  {
   "cell_type": "code",
   "execution_count": 31,
   "metadata": {},
   "outputs": [
    {
     "name": "stdout",
     "output_type": "stream",
     "text": [
      "[[1. 2. 3.]\n",
      " [2. 4. 5.]\n",
      " [3. 5. 6.]]\n"
     ]
    }
   ],
   "source": [
    "#A = np.array([[1, 2, 3], [4, 5, 6], [7, 8, 9]], dtype=np.float64)\n",
    "# symmetric np.array\n",
    "A = np.array([[1, 2, 3], [2, 4, 5], [3, 5, 6]], dtype=np.float64)\n",
    "print(A)"
   ]
  },
  {
   "cell_type": "code",
   "execution_count": 32,
   "metadata": {},
   "outputs": [
    {
     "name": "stdout",
     "output_type": "stream",
     "text": [
      "3 3\n",
      "1.000000000000000000e+00 2.000000000000000000e+00 3.000000000000000000e+00\n",
      "2.000000000000000000e+00 4.000000000000000000e+00 5.000000000000000000e+00\n",
      "3.000000000000000000e+00 5.000000000000000000e+00 6.000000000000000000e+00\n"
     ]
    }
   ],
   "source": [
    "!rm input_data.txt\n",
    "with open('input_data.txt','a') as f:\n",
    "    f.write(f\"{A.shape[0]} {A.shape[1]}\\n\")\n",
    "    np.savetxt(f,A, newline=\"\\n\")\n",
    "!cat input_data.txt"
   ]
  },
  {
   "cell_type": "code",
   "execution_count": 33,
   "metadata": {},
   "outputs": [
    {
     "name": "stdout",
     "output_type": "stream",
     "text": [
      "\n",
      "\n",
      "Compilation successful\n"
     ]
    }
   ],
   "source": [
    "result = subprocess.run(['g++', '-std=c++11', 'powerMethod.cpp', '-o', 'powerMethod'], capture_output=True)\n",
    "print(result.stdout.decode())\n",
    "print(result.stderr.decode())\n",
    "\n",
    "if result.returncode == 0:\n",
    "    print('Compilation successful')\n",
    "else:\n",
    "    print('Compilation failed')"
   ]
  },
  {
   "cell_type": "code",
   "execution_count": 34,
   "metadata": {},
   "outputs": [
    {
     "name": "stdout",
     "output_type": "stream",
     "text": [
      "Matrix A:\n",
      "1 2 3\n",
      "2 4 5\n",
      "3 5 6\n"
     ]
    },
    {
     "data": {
      "text/plain": [
       "CompletedProcess(args=['./powerMethod', 'input_data.txt', 'values.txt', 'vectors.txt', '1000', '1e-06'], returncode=0)"
      ]
     },
     "execution_count": 34,
     "metadata": {},
     "output_type": "execute_result"
    }
   ],
   "source": [
    "niter = 1000\n",
    "tol = 1e-6\n",
    "subprocess.run(['./powerMethod', 'input_data.txt', 'values.txt', 'vectors.txt', str(niter), str(tol)])"
   ]
  },
  {
   "cell_type": "code",
   "execution_count": 35,
   "metadata": {},
   "outputs": [
    {
     "data": {
      "text/plain": [
       "(array([[ 0.327985,  0.73694 , -0.590872],\n",
       "        [ 0.591009,  0.32803 ,  0.737037],\n",
       "        [ 0.736976, -0.59103 , -0.328095]]),\n",
       " array([11.3448  , -0.515729,  0.170915]))"
      ]
     },
     "execution_count": 35,
     "metadata": {},
     "output_type": "execute_result"
    }
   ],
   "source": [
    "# read values.txt and vectors.txt as np arrays:\n",
    "vectors = np.loadtxt('vectors.txt')\n",
    "values = np.loadtxt('values.txt')\n",
    "vectors, values"
   ]
  },
  {
   "cell_type": "code",
   "execution_count": 36,
   "metadata": {},
   "outputs": [
    {
     "data": {
      "text/plain": [
       "(array([[1., 2., 3.],\n",
       "        [2., 4., 5.],\n",
       "        [3., 5., 6.]]),\n",
       " array([[ 0.327985,  0.73694 , -0.590872],\n",
       "        [ 0.591009,  0.32803 ,  0.737037],\n",
       "        [ 0.736976, -0.59103 , -0.328095]]))"
      ]
     },
     "execution_count": 36,
     "metadata": {},
     "output_type": "execute_result"
    }
   ],
   "source": [
    "A, vectors"
   ]
  },
  {
   "cell_type": "code",
   "execution_count": 37,
   "metadata": {},
   "outputs": [
    {
     "name": "stdout",
     "output_type": "stream",
     "text": [
      "[3.720931 6.704886 8.360856]\n",
      "[3.72092423 6.7048789  8.36084532]\n",
      "\n",
      "[-0.38009 -0.16915  0.30479]\n",
      "[-0.38006133 -0.16917458  0.30481131]\n",
      "\n",
      "[-0.101083  0.125929 -0.056001]\n",
      "[-0.10098889  0.12597068 -0.05607636]\n",
      "\n"
     ]
    }
   ],
   "source": [
    "# Check that A@v = lambda@v:\n",
    "for i in range(len(values)):\n",
    "    print(A @ vectors[:,i])\n",
    "    print(values[i] * vectors[:,i])\n",
    "    print()"
   ]
  },
  {
   "cell_type": "code",
   "execution_count": null,
   "metadata": {},
   "outputs": [],
   "source": [
    "# Test con autovalores y autovector conocidos\n"
   ]
  },
  {
   "cell_type": "code",
   "execution_count": null,
   "metadata": {},
   "outputs": [],
   "source": [
    "# Test con matrices con autovalores repetidos\n"
   ]
  },
  {
   "cell_type": "code",
   "execution_count": null,
   "metadata": {},
   "outputs": [],
   "source": [
    "#Analizar la convergencia en casos con autovalores muy cercanos."
   ]
  },
  {
   "cell_type": "code",
   "execution_count": null,
   "metadata": {},
   "outputs": [],
   "source": [
    " # Comparar los errores contra Numpy"
   ]
  }
 ],
 "metadata": {
  "kernelspec": {
   "display_name": "base",
   "language": "python",
   "name": "python3"
  },
  "language_info": {
   "codemirror_mode": {
    "name": "ipython",
    "version": 3
   },
   "file_extension": ".py",
   "mimetype": "text/x-python",
   "name": "python",
   "nbconvert_exporter": "python",
   "pygments_lexer": "ipython3",
   "version": "3.11.4"
  },
  "orig_nbformat": 4
 },
 "nbformat": 4,
 "nbformat_minor": 2
}
